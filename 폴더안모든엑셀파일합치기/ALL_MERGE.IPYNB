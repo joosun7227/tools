{
 "cells": [
  {
   "cell_type": "code",
   "execution_count": 2,
   "metadata": {},
   "outputs": [
    {
     "name": "stderr",
     "output_type": "stream",
     "text": [
      "C:\\Users\\jusun\\AppData\\Local\\Packages\\PythonSoftwareFoundation.Python.3.11_qbz5n2kfra8p0\\LocalCache\\local-packages\\Python311\\site-packages\\openpyxl\\styles\\stylesheet.py:237: UserWarning: Workbook contains no default style, apply openpyxl's default\n",
      "  warn(\"Workbook contains no default style, apply openpyxl's default\")\n",
      "C:\\Users\\jusun\\AppData\\Local\\Packages\\PythonSoftwareFoundation.Python.3.11_qbz5n2kfra8p0\\LocalCache\\local-packages\\Python311\\site-packages\\openpyxl\\styles\\stylesheet.py:237: UserWarning: Workbook contains no default style, apply openpyxl's default\n",
      "  warn(\"Workbook contains no default style, apply openpyxl's default\")\n"
     ]
    },
    {
     "name": "stdout",
     "output_type": "stream",
     "text": [
      "✅ C://Users//jusun//OneDrive//문서//3yejoo//ERP//구매//구매_수입사자료\\구매조회_1.xlsx 안의 모든 시트를 성공적으로 불러왔어!\n",
      "✅ C://Users//jusun//OneDrive//문서//3yejoo//ERP//구매//구매_수입사자료\\구매조회_2.xlsx 안의 모든 시트를 성공적으로 불러왔어!\n",
      "✅ C://Users//jusun//OneDrive//문서//3yejoo//ERP//구매//구매_수입사자료\\구매조회_3.xlsx 안의 모든 시트를 성공적으로 불러왔어!\n"
     ]
    },
    {
     "name": "stderr",
     "output_type": "stream",
     "text": [
      "C:\\Users\\jusun\\AppData\\Local\\Packages\\PythonSoftwareFoundation.Python.3.11_qbz5n2kfra8p0\\LocalCache\\local-packages\\Python311\\site-packages\\openpyxl\\styles\\stylesheet.py:237: UserWarning: Workbook contains no default style, apply openpyxl's default\n",
      "  warn(\"Workbook contains no default style, apply openpyxl's default\")\n",
      "C:\\Users\\jusun\\AppData\\Local\\Packages\\PythonSoftwareFoundation.Python.3.11_qbz5n2kfra8p0\\LocalCache\\local-packages\\Python311\\site-packages\\openpyxl\\styles\\stylesheet.py:237: UserWarning: Workbook contains no default style, apply openpyxl's default\n",
      "  warn(\"Workbook contains no default style, apply openpyxl's default\")\n",
      "C:\\Users\\jusun\\AppData\\Local\\Packages\\PythonSoftwareFoundation.Python.3.11_qbz5n2kfra8p0\\LocalCache\\local-packages\\Python311\\site-packages\\openpyxl\\styles\\stylesheet.py:237: UserWarning: Workbook contains no default style, apply openpyxl's default\n",
      "  warn(\"Workbook contains no default style, apply openpyxl's default\")\n"
     ]
    },
    {
     "name": "stdout",
     "output_type": "stream",
     "text": [
      "✅ C://Users//jusun//OneDrive//문서//3yejoo//ERP//구매//구매_수입사자료\\구매조회_4.xlsx 안의 모든 시트를 성공적으로 불러왔어!\n",
      "✅ C://Users//jusun//OneDrive//문서//3yejoo//ERP//구매//구매_수입사자료\\구매조회_5.xlsx 안의 모든 시트를 성공적으로 불러왔어!\n",
      "✅ C://Users//jusun//OneDrive//문서//3yejoo//ERP//구매//구매_수입사자료\\구매조회_6.xlsx 안의 모든 시트를 성공적으로 불러왔어!\n"
     ]
    },
    {
     "name": "stderr",
     "output_type": "stream",
     "text": [
      "C:\\Users\\jusun\\AppData\\Local\\Packages\\PythonSoftwareFoundation.Python.3.11_qbz5n2kfra8p0\\LocalCache\\local-packages\\Python311\\site-packages\\openpyxl\\styles\\stylesheet.py:237: UserWarning: Workbook contains no default style, apply openpyxl's default\n",
      "  warn(\"Workbook contains no default style, apply openpyxl's default\")\n"
     ]
    },
    {
     "name": "stdout",
     "output_type": "stream",
     "text": [
      "✅ C://Users//jusun//OneDrive//문서//3yejoo//ERP//구매//구매_수입사자료\\합친파일.xlsx 안의 모든 시트를 성공적으로 불러왔어!\n",
      "\n",
      "🎉 모든 엑셀 파일과 시트를 합쳐서 '합친파일.xlsx'로 저장했어!\n"
     ]
    }
   ],
   "source": [
    "import os\n",
    "import pandas as pd\n",
    "\n",
    "# 루트 디렉토리 설정\n",
    "root_dir = \"C://Users//jusun//OneDrive//문서//3yejoo//ERP//구매//구매_수입사자료\"\n",
    "\n",
    "# 결과 저장용 빈 데이터프레임 생성\n",
    "combined_df = pd.DataFrame()\n",
    "\n",
    "# 모든 폴더와 하위 폴더 탐색\n",
    "for dirpath, dirnames, filenames in os.walk(root_dir):  # 모든 하위 폴더까지 탐색해\n",
    "    for filename in filenames:  # 파일 하나씩 확인해\n",
    "        if filename.endswith('.xlsx') and not filename.startswith('~$'):  # 엑셀 파일이고 임시파일이 아니면\n",
    "            file_path = os.path.join(dirpath, filename)  # 전체 경로 생성\n",
    "\n",
    "            try:\n",
    "                # 엑셀 파일 내의 모든 시트 읽기\n",
    "                xls = pd.ExcelFile(file_path)  # 엑셀파일 불러오기\n",
    "                for sheet_name in xls.sheet_names:  # 모든 시트 반복해서\n",
    "                    df = xls.parse(sheet_name)  # 시트 읽기\n",
    "                    \n",
    "                    df['파일명'] = filename  # 파일 이름 열 추가\n",
    "                    df['파일_경로'] = file_path  # 전체 경로 열 추가\n",
    "                    df['시트명'] = sheet_name  # 시트명도 추가\n",
    "                    df['상위_폴더'] = os.path.basename(dirpath)  # 상위 폴더명 추가\n",
    "                    \n",
    "                    combined_df = pd.concat([combined_df, df], ignore_index=True)  # 결과에 합치기\n",
    "\n",
    "                print(f\"✅ {file_path} 안의 모든 시트를 성공적으로 불러왔어!\")\n",
    "\n",
    "            except Exception as e:\n",
    "                print(f\"❌ {file_path} 파일을 읽는 중 오류 발생: {e}\")\n",
    "\n",
    "# 결과를 새로운 엑셀 파일로 저장\n",
    "output_file = '합친파일.xlsx'\n",
    "combined_df.to_excel(output_file, index=False, engine='openpyxl')\n",
    "\n",
    "print(f\"\\n🎉 모든 엑셀 파일과 시트를 합쳐서 '{output_file}'로 저장했어!\")\n"
   ]
  },
  {
   "cell_type": "code",
   "execution_count": null,
   "metadata": {},
   "outputs": [],
   "source": []
  }
 ],
 "metadata": {
  "kernelspec": {
   "display_name": "Python 3",
   "language": "python",
   "name": "python3"
  },
  "language_info": {
   "codemirror_mode": {
    "name": "ipython",
    "version": 3
   },
   "file_extension": ".py",
   "mimetype": "text/x-python",
   "name": "python",
   "nbconvert_exporter": "python",
   "pygments_lexer": "ipython3",
   "version": "3.11.9"
  }
 },
 "nbformat": 4,
 "nbformat_minor": 2
}
