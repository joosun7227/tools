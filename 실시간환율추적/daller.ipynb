{
 "cells": [
  {
   "cell_type": "code",
   "execution_count": 2,
   "metadata": {},
   "outputs": [],
   "source": [
    "from selenium import webdriver  # 웹브라우저 자동화 도구\n",
    "from selenium.webdriver.common.by import By  # HTML 요소 찾기 위한 도구\n",
    "from selenium.webdriver.chrome.service import Service  # 크롬 서비스 설정\n",
    "from webdriver_manager.chrome import ChromeDriverManager  # 크롬드라이버 자동 설치\n",
    "import tkinter as tk  # GUI 창 생성\n",
    "import time  # 시간 관련 기능"
   ]
  },
  {
   "cell_type": "code",
   "execution_count": 1,
   "metadata": {},
   "outputs": [
    {
     "name": "stdout",
     "output_type": "stream",
     "text": [
      "Collecting pyinstaller\n",
      "  Downloading pyinstaller-6.12.0-py3-none-win_amd64.whl.metadata (8.3 kB)\n",
      "Requirement already satisfied: setuptools>=42.0.0 in c:\\program files\\windowsapps\\pythonsoftwarefoundation.python.3.11_3.11.2544.0_x64__qbz5n2kfra8p0\\lib\\site-packages (from pyinstaller) (65.5.0)\n",
      "Collecting altgraph (from pyinstaller)\n",
      "  Downloading altgraph-0.17.4-py2.py3-none-any.whl.metadata (7.3 kB)\n",
      "Collecting pyinstaller-hooks-contrib>=2025.1 (from pyinstaller)\n",
      "  Downloading pyinstaller_hooks_contrib-2025.2-py3-none-any.whl.metadata (16 kB)\n",
      "Requirement already satisfied: packaging>=22.0 in c:\\users\\jusun\\appdata\\local\\packages\\pythonsoftwarefoundation.python.3.11_qbz5n2kfra8p0\\localcache\\local-packages\\python311\\site-packages (from pyinstaller) (24.2)\n",
      "Collecting pefile!=2024.8.26,>=2022.5.30 (from pyinstaller)\n",
      "  Downloading pefile-2023.2.7-py3-none-any.whl.metadata (1.4 kB)\n",
      "Collecting pywin32-ctypes>=0.2.1 (from pyinstaller)\n",
      "  Downloading pywin32_ctypes-0.2.3-py3-none-any.whl.metadata (3.9 kB)\n",
      "Downloading pyinstaller-6.12.0-py3-none-win_amd64.whl (1.3 MB)\n",
      "   ---------------------------------------- 0.0/1.3 MB ? eta -:--:--\n",
      "   -------- ------------------------------- 0.3/1.3 MB 5.9 MB/s eta 0:00:01\n",
      "   ------------------ --------------------- 0.6/1.3 MB 6.4 MB/s eta 0:00:01\n",
      "   ----------------------------- ---------- 1.0/1.3 MB 7.0 MB/s eta 0:00:01\n",
      "   ---------------------------------------- 1.3/1.3 MB 7.1 MB/s eta 0:00:00\n",
      "Downloading pefile-2023.2.7-py3-none-any.whl (71 kB)\n",
      "   ---------------------------------------- 0.0/71.8 kB ? eta -:--:--\n",
      "   ---------------------------------------- 71.8/71.8 kB 4.1 MB/s eta 0:00:00\n",
      "Downloading pyinstaller_hooks_contrib-2025.2-py3-none-any.whl (351 kB)\n",
      "   ---------------------------------------- 0.0/351.0 kB ? eta -:--:--\n",
      "   --------------------------------------- 351.0/351.0 kB 11.0 MB/s eta 0:00:00\n",
      "Downloading pywin32_ctypes-0.2.3-py3-none-any.whl (30 kB)\n",
      "Downloading altgraph-0.17.4-py2.py3-none-any.whl (21 kB)\n",
      "Installing collected packages: altgraph, pywin32-ctypes, pyinstaller-hooks-contrib, pefile, pyinstaller\n",
      "Successfully installed altgraph-0.17.4 pefile-2023.2.7 pyinstaller-6.12.0 pyinstaller-hooks-contrib-2025.2 pywin32-ctypes-0.2.3\n",
      "Note: you may need to restart the kernel to use updated packages.\n"
     ]
    },
    {
     "name": "stderr",
     "output_type": "stream",
     "text": [
      "\n",
      "[notice] A new release of pip is available: 24.0 -> 25.0.1\n",
      "[notice] To update, run: C:\\Users\\jusun\\AppData\\Local\\Microsoft\\WindowsApps\\PythonSoftwareFoundation.Python.3.11_qbz5n2kfra8p0\\python.exe -m pip install --upgrade pip\n"
     ]
    }
   ],
   "source": [
    "pip install pyinstaller"
   ]
  },
  {
   "cell_type": "code",
   "execution_count": 3,
   "metadata": {},
   "outputs": [],
   "source": [
    "# 실제 환율 값을 웹페이지에서 가져오는 함수\n",
    "def fetch_exchange_rate():\n",
    "    # 크롬 드라이버 설정 (자동설치)\n",
    "    service = Service(ChromeDriverManager().install())\n",
    "    options = webdriver.ChromeOptions()\n",
    "    options.add_argument(\"headless\")  # 브라우저 창 안 띄우고 백그라운드에서 실행\n",
    "    driver = webdriver.Chrome(service=service, options=options)\n",
    "\n",
    "    driver.get(\"https://obank.kbstar.com/quics?page=C101423\")  # 환율페이지 이동\n",
    "    time.sleep(3)  # 페이지가 로딩될 때까지 잠시 기다리기 (필요하면 늘리기)\n",
    "\n",
    "    try:\n",
    "        # 첫 번째로 등장하는 td 클래스가 'tRight'인 요소의 텍스트를 가져오기\n",
    "        element = driver.find_element(By.CSS_SELECTOR, \"td.tRight\")\n",
    "        exchange_rate = element.text  # 실제 값을 추출\n",
    "    except Exception as e:\n",
    "        exchange_rate = \"값 불러오기 실패\"  # 에러 발생 시 메시지 처리\n",
    "\n",
    "    driver.quit()  # 브라우저 종료\n",
    "    return exchange_rate  # 가져온 환율 값 반환\n",
    "\n",
    "# 작은 GUI 창을 업데이트하는 함수\n",
    "def update_gui():\n",
    "    rate = fetch_exchange_rate()  # 함수로 값 불러오기\n",
    "    label.config(text=f\"USD 환율: {rate} 원\")  # 라벨에 표시할 내용 업데이트\n",
    "    root.after(10000, update_gui)  # 10초 간격으로 계속 업데이트 (원하면 조절 가능)\n",
    "\n",
    "# GUI 설정\n",
    "root = tk.Tk()\n",
    "root.title(\"USD 환율 실시간 확인\")\n",
    "root.geometry(\"200x80\")  # 작은 창으로 설정\n",
    "\n",
    "# 텍스트를 표시할 라벨 추가\n",
    "label = tk.Label(root, text=\"값 불러오는 중...\", font=(\"Arial\", 14))\n",
    "label.pack(pady=15)\n",
    "\n",
    "# 처음 실행할 때 업데이트 호출\n",
    "update_gui()\n",
    "\n",
    "# GUI 반복 실행\n",
    "root.mainloop()\n"
   ]
  },
  {
   "cell_type": "code",
   "execution_count": null,
   "metadata": {},
   "outputs": [],
   "source": []
  }
 ],
 "metadata": {
  "kernelspec": {
   "display_name": "Python 3",
   "language": "python",
   "name": "python3"
  },
  "language_info": {
   "codemirror_mode": {
    "name": "ipython",
    "version": 3
   },
   "file_extension": ".py",
   "mimetype": "text/x-python",
   "name": "python",
   "nbconvert_exporter": "python",
   "pygments_lexer": "ipython3",
   "version": "3.11.9"
  }
 },
 "nbformat": 4,
 "nbformat_minor": 2
}
