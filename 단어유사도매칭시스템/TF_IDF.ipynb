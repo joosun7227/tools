{
 "cells": [
  {
   "cell_type": "code",
   "execution_count": 1,
   "metadata": {},
   "outputs": [],
   "source": [
    "# 필요한 전체 코드 다시 실행해서 세 파일 만들기\n",
    "\n",
    "import pandas as pd\n",
    "from sklearn.feature_extraction.text import TfidfVectorizer\n",
    "from sklearn.metrics.pairwise import cosine_similarity\n",
    "import numpy as np"
   ]
  },
  {
   "cell_type": "code",
   "execution_count": 3,
   "metadata": {},
   "outputs": [
    {
     "data": {
      "text/plain": [
       "'/mnt/data 경로에 3개 파일 저장 완료!'"
      ]
     },
     "execution_count": 3,
     "metadata": {},
     "output_type": "execute_result"
    }
   ],
   "source": [
    "# 1. 파일 경로\n",
    "file_product = \"예주나라상품정보.xlsx\"\n",
    "file_category = \"표준카테고리카드.xlsx\"\n",
    "\n",
    "# 2. 파일 불러오기\n",
    "product_df = pd.read_excel(file_product)\n",
    "category_df = pd.read_excel(file_category)\n",
    "\n",
    "# 3. 표준카테고리 통합 텍스트\n",
    "category_df['통합분류'] = category_df[['3차분류', '4차분류', '5차분류']].fillna('').agg(' '.join, axis=1)\n",
    "\n",
    "# 4. 예주나라 상품 검색문장 생성\n",
    "product_df['검색문장'] = product_df[['카테고리명', '품목명', '이전품목명']].fillna('').agg(' '.join, axis=1)\n",
    "product_texts = product_df[['카테고리명', '검색문장']].dropna(subset=['카테고리명']).drop_duplicates().reset_index(drop=True)\n",
    "\n",
    "# 5. 벡터화 및 유사도\n",
    "all_texts = pd.concat([product_texts['검색문장'], category_df['통합분류']], ignore_index=True)\n",
    "vectorizer = TfidfVectorizer().fit(all_texts)\n",
    "product_vecs = vectorizer.transform(product_texts['검색문장'])\n",
    "category_vecs = vectorizer.transform(category_df['통합분류'])\n",
    "similarity_matrix = cosine_similarity(product_vecs, category_vecs)\n",
    "\n",
    "# 6. 추천 생성 함수\n",
    "def make_recommendations(top_k):\n",
    "    results = []\n",
    "    for i, row in product_texts.iterrows():\n",
    "        category_name = row['카테고리명']\n",
    "        original_text = row['검색문장']\n",
    "        top_idx = similarity_matrix[i].argsort()[-top_k:][::-1]\n",
    "        for rank, j in enumerate(top_idx):\n",
    "            cat_row = category_df.iloc[j]\n",
    "            results.append({\n",
    "                '카테고리명': category_name,\n",
    "                '검색문장': original_text,\n",
    "                '추천순위': rank + 1,\n",
    "                '추천카테고리코드': cat_row['카테고리코드'],\n",
    "                '1차분류': cat_row['1차분류'],\n",
    "                '2차분류': cat_row['2차분류'],\n",
    "                '3차분류': cat_row['3차분류'],\n",
    "                '4차분류': cat_row['4차분류'],\n",
    "                '5차분류': cat_row['5차분류'],\n",
    "                '유사도점수': round(similarity_matrix[i][j], 4)\n",
    "            })\n",
    "    return pd.DataFrame(results)\n",
    "\n",
    "# 7. Top 3, Top 1 추천\n",
    "top3_df = make_recommendations(top_k=3)\n",
    "top1_df = make_recommendations(top_k=1)\n",
    "\n",
    "# 8. 예주나라 상품 기본 정보 병합\n",
    "product_info = product_df[['카테고리명', '품목명', '이전품목명']].dropna(subset=['카테고리명']).drop_duplicates()\n",
    "top3_df = pd.merge(top3_df, product_info, on='카테고리명', how='left')\n",
    "top1_df = pd.merge(top1_df, product_info, on='카테고리명', how='left')\n",
    "\n",
    "# 9. Top1 추천을 예주나라 상품정보에 병합\n",
    "top1_clean = top1_df.drop_duplicates(subset=['카테고리명'])[\n",
    "    ['카테고리명', '추천카테고리코드', '1차분류', '2차분류', '3차분류', '4차분류', '5차분류', '유사도점수']\n",
    "]\n",
    "merged_product_df = pd.merge(product_df, top1_clean, on='카테고리명', how='left')\n",
    "\n",
    "# 10. 결과 저장\n",
    "top3_df.to_excel(\"카테고리_유사도_TOP3추천.xlsx\", index=False)\n",
    "top1_df.to_excel(\"카테고리_유사도_1순위자동매핑.xlsx\", index=False)\n",
    "merged_product_df.to_excel(\"예주나라상품정보_추천카테고리_추가.xlsx\", index=False)\n",
    "\n",
    "\"/mnt/data 경로에 3개 파일 저장 완료!\"\n"
   ]
  },
  {
   "cell_type": "code",
   "execution_count": null,
   "metadata": {},
   "outputs": [
    {
     "data": {
      "text/plain": [
       "'파일 3개에 품목코드/품목명 포함해서 다시 저장 완료!'"
      ]
     },
     "execution_count": 5,
     "metadata": {},
     "output_type": "execute_result"
    },
    {
     "ename": "",
     "evalue": "",
     "output_type": "error",
     "traceback": [
      "\u001b[1;31mThe Kernel crashed while executing code in the current cell or a previous cell. \n",
      "\u001b[1;31mPlease review the code in the cell(s) to identify a possible cause of the failure. \n",
      "\u001b[1;31mClick <a href='https://aka.ms/vscodeJupyterKernelCrash'>here</a> for more info. \n",
      "\u001b[1;31mView Jupyter <a href='command:jupyter.viewOutput'>log</a> for further details."
     ]
    }
   ],
   "source": [
    "# top3_df, top1_df, merged_product_df에 '품목코드', '품목명' 컬럼 추가\n",
    "\n",
    "# 예주나라 상품에서 품목코드도 포함한 정보 추출\n",
    "product_info_full = product_df[['카테고리명', '품목코드', '품목명', '이전품목명']].dropna(subset=['카테고리명']).drop_duplicates()\n",
    "\n",
    "# top3, top1에 병합\n",
    "top3_df = pd.merge(top3_df, product_info_full, on=['카테고리명', '품목명', '이전품목명'], how='left')\n",
    "top1_df = pd.merge(top1_df, product_info_full, on=['카테고리명', '품목명', '이전품목명'], how='left')\n",
    "\n",
    "# 순서 정리: 품목코드, 품목명, 카테고리 추천 관련 항목 앞으로\n",
    "cols_order = ['품목코드', '품목명', '카테고리명', '추천순위', '추천카테고리코드', '1차분류', '2차분류', '3차분류', '4차분류', '5차분류', '유사도점수', '검색문장', '이전품목명']\n",
    "top3_df = top3_df[[col for col in cols_order if col in top3_df.columns]]\n",
    "top1_df = top1_df[[col for col in cols_order if col in top1_df.columns]]\n",
    "\n",
    "# 병합된 product_df도 순서만 정리 (이미 품목코드, 품목명 있음)\n",
    "merged_product_df = merged_product_df[['품목코드', '품목명', '카테고리명'] + \n",
    "                                       [col for col in merged_product_df.columns if col.startswith('추천') or col.endswith('분류') or col == '유사도점수'] + \n",
    "                                       [col for col in merged_product_df.columns if col not in ['품목코드', '품목명', '카테고리명', '추천카테고리코드', '1차분류', '2차분류', '3차분류', '4차분류', '5차분류', '유사도점수']]]\n",
    "\n",
    "# 결과 다시 저장\n",
    "top3_df.to_excel(\"카테고리_유사도_TOP3추천.xlsx\", index=False)\n",
    "top1_df.to_excel(\"카테고리_유사도_1순위자동매핑.xlsx\", index=False)\n",
    "merged_product_df.to_excel(\"예주나라상품정보_추천카테고리_추가.xlsx\", index=False)\n",
    "\n",
    "\"파일 3개에 품목코드/품목명 포함해서 다시 저장 완료!\""
   ]
  },
  {
   "cell_type": "code",
   "execution_count": null,
   "metadata": {},
   "outputs": [],
   "source": []
  }
 ],
 "metadata": {
  "kernelspec": {
   "display_name": "Python 3",
   "language": "python",
   "name": "python3"
  },
  "language_info": {
   "codemirror_mode": {
    "name": "ipython",
    "version": 3
   },
   "file_extension": ".py",
   "mimetype": "text/x-python",
   "name": "python",
   "nbconvert_exporter": "python",
   "pygments_lexer": "ipython3",
   "version": "3.11.9"
  }
 },
 "nbformat": 4,
 "nbformat_minor": 2
}
